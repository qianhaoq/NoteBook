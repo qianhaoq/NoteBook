{
 "cells": [
  {
   "cell_type": "code",
   "execution_count": 5,
   "metadata": {},
   "outputs": [
    {
     "name": "stdout",
     "output_type": "stream",
     "text": [
      "[1, 4, 5, 7, 8]\n"
     ]
    }
   ],
   "source": [
    "\"\"\"\n",
    "插入排序\n",
    "插入核心思想就是将一个数据插入到已排序好的有序数组中\n",
    "该有序数组从index=0开始，后面的n-1位每次都与有序数组的最后一位进行比较，依次往前\n",
    "时间效率为n^2\n",
    "\"\"\"\n",
    "def insert_sort(lists):\n",
    "    count = len(lists)\n",
    "    for i in range(1, count):\n",
    "        key = lists[i]\n",
    "        j = i - 1\n",
    "        while j >= 0:\n",
    "            if lists[j] > key:\n",
    "                lists[j + 1] = lists[j]\n",
    "                lists[j] = key\n",
    "            j -= 1\n",
    "    return lists\n",
    "\n",
    "input_list = [7,5,8,1,4]\n",
    "output_list = []\n",
    "output_list = insert_sort(input_list)\n",
    "print(output_list)"
   ]
  },
  {
   "cell_type": "code",
   "execution_count": 6,
   "metadata": {},
   "outputs": [
    {
     "name": "stdout",
     "output_type": "stream",
     "text": [
      "[1, 4, 5, 7, 8]\n"
     ]
    }
   ],
   "source": [
    "\"\"\"\n",
    "希尔排序\n",
    "是插入排序的变种，对数列按下标的一定增量 t 进行分组(1,3,5)(2,4)，随着t->1，整个数列被分为一组\n",
    "时间效率取决于t的选取，一般为o(n^(3/2))\n",
    "注:python3 中 // 表示整除\n",
    "\"\"\"\n",
    "def shell_sort(lists):\n",
    "    count = len(lists)\n",
    "    group = 2\n",
    "    t = count // group\n",
    "    while t > 0:\n",
    "        for i in range(0, t):\n",
    "            j = i + t\n",
    "            while j < count:\n",
    "                if lists[j - t] > lists[j]:\n",
    "                    lists[j - t],lists[j] = lists[j],lists[j - t]\n",
    "                j += t\n",
    "        t -= 1\n",
    "    return lists\n",
    "\n",
    "input_list = [7,5,8,1,4]\n",
    "output_list = []\n",
    "output_list = shell_sort(input_list)\n",
    "print(output_list)"
   ]
  },
  {
   "cell_type": "code",
   "execution_count": 13,
   "metadata": {},
   "outputs": [
    {
     "name": "stdout",
     "output_type": "stream",
     "text": [
      "[1, 3, 4, 5, 7, 8, 30, 55, 91]\n"
     ]
    }
   ],
   "source": [
    "\"\"\"\n",
    "冒泡排序\n",
    "重复得走过要排序的数列，一次比较相邻的2个元素，如果顺序错误就进行交换\n",
    "网上流传很多的版本是错误的，不是冒泡排序\n",
    "\"\"\"\n",
    "def bubble_sort(lists):\n",
    "    count = len(lists)\n",
    "    for i in range(count - 1, 0, -1):\n",
    "        for j in range(i):\n",
    "            if lists[j] > lists[j + 1]:\n",
    "                lists[j],lists[j + 1] = lists[j + 1],lists[j]\n",
    "    return lists\n",
    "\n",
    "input_list = [7,5,8,1,4,3,55,91,30]\n",
    "output_list = []\n",
    "output_list = bubble_sort(input_list)\n",
    "print(output_list)"
   ]
  },
  {
   "cell_type": "code",
   "execution_count": 33,
   "metadata": {},
   "outputs": [
    {
     "name": "stdout",
     "output_type": "stream",
     "text": [
      "[1, 3, 4, 5, 7, 8, 30, 55, 91]\n"
     ]
    }
   ],
   "source": [
    "\"\"\"\n",
    "快速排序\n",
    "（1）通过基准值k将原数列分为2部分，小于k的放在左边，大于k的放在右边，\n",
    "（2）对左边和右边子序列分别进行（1）中操作直到子序列长度为1\n",
    "关于基准值的选取，本例中默认选最左边\n",
    "o(n log n)\n",
    "\"\"\"\n",
    "def quick_sort(lists, left, right):\n",
    "    if left >= right:\n",
    "        return lists\n",
    "    start = left\n",
    "    end = right\n",
    "    count = len(lists)\n",
    "    key = lists[left]\n",
    "    while left < right:\n",
    "        while left < right and lists[right] >= key:\n",
    "            right -= 1\n",
    "        if left < right:\n",
    "            lists[left] = lists[right]\n",
    "        while left < right and lists[left] <= key:\n",
    "            left += 1\n",
    "        if left < right:\n",
    "            lists[right] = lists[left]\n",
    "    lists[right] = key\n",
    "    quick_sort(lists, start, right - 1)\n",
    "    quick_sort(lists, right + 1, end)\n",
    "    return lists\n",
    "\n",
    "    \n",
    "input_list = [7,5,8,1,4,3,55,91,30]\n",
    "output_list = []\n",
    "output_list = quick_sort(input_list, 0, len(input_list) - 1)\n",
    "print(output_list)\n"
   ]
  },
  {
   "cell_type": "code",
   "execution_count": 36,
   "metadata": {},
   "outputs": [
    {
     "name": "stdout",
     "output_type": "stream",
     "text": [
      "[1, 4, 5, 7, 8]\n"
     ]
    }
   ],
   "source": [
    "\"\"\"\n",
    "直接选择排序\n",
    "进行n^2次交换，每次从待排序数列r[i]~r[n]中选出最小的记录与r[i]进行交换，然后i++\n",
    "o(n^2)\n",
    "\"\"\"\n",
    "def select_sort(lists):\n",
    "    count = len(lists)\n",
    "    for i in range(0, count):\n",
    "        min = i\n",
    "        for j in range(i, count):\n",
    "            if lists[min] > lists[j]:\n",
    "                min = j\n",
    "        lists[i],lists[min] = lists[min],lists[i]\n",
    "    return lists\n",
    "\n",
    "input_list = [7,5,8,1,4,3,55,91,30]\n",
    "output_list = []\n",
    "output_list = select_sort(input_list)\n",
    "print(output_list)"
   ]
  },
  {
   "cell_type": "code",
   "execution_count": 47,
   "metadata": {},
   "outputs": [
    {
     "name": "stdout",
     "output_type": "stream",
     "text": [
      "[1, 3, 4, 5, 7, 8, 30, 55, 91]\n"
     ]
    }
   ],
   "source": [
    "\"\"\"\n",
    "堆排序\n",
    "利用最大值堆或者最小值堆进行排序，每次的堆顶数据即为最大值或者最小值\n",
    "比如从小到大排序，建立最大根堆的实例如下\n",
    "o(n log n)\n",
    "\"\"\"\n",
    "\n",
    "# 根据最大值堆的规则进行调整，既根节点大于左右子树\n",
    "def heap_adjust(lists, i ,size):\n",
    "    left_child = i * 2 + 1\n",
    "    right_child = i * 2 + 2\n",
    "    maxIndex = i\n",
    "    if i < (size // 2):\n",
    "        if left_child < size and lists[left_child] > lists[maxIndex]:\n",
    "            maxIndex = left_child\n",
    "        if right_child < size and lists[right_child] > lists[maxIndex]:\n",
    "            maxIndex = right_child\n",
    "        if maxIndex != i:\n",
    "            lists[i],lists[maxIndex] = lists[maxIndex],lists[i]\n",
    "            heap_adjust(lists, maxIndex, size)\n",
    "\n",
    "# 建堆\n",
    "def heap_build(lists, size):\n",
    "    for i in range(0, int(size//2))[::-1]:\n",
    "        heap_adjust(lists, i, size)\n",
    "    \n",
    "def heap_sort(lists):\n",
    "    size = len(lists)\n",
    "    heap_build(lists, size)\n",
    "    for i in range(0, size)[::-1]:\n",
    "        lists[0], lists[i] = lists[i],lists[0]\n",
    "        heap_build(lists, i)\n",
    "    return lists\n",
    "\n",
    "input_list = [7,5,8,1,4,3,55,91,30]\n",
    "output_list = []\n",
    "output_list = heap_sort(input_list)\n",
    "print(output_list)"
   ]
  },
  {
   "cell_type": "code",
   "execution_count": null,
   "metadata": {
    "collapsed": true
   },
   "outputs": [],
   "source": [
    "\"\"\"\n",
    "归并排序\n",
    "\n",
    "\"\"\""
   ]
  }
 ],
 "metadata": {
  "kernelspec": {
   "display_name": "Python 3",
   "language": "python",
   "name": "python3"
  },
  "language_info": {
   "codemirror_mode": {
    "name": "ipython",
    "version": 3
   },
   "file_extension": ".py",
   "mimetype": "text/x-python",
   "name": "python",
   "nbconvert_exporter": "python",
   "pygments_lexer": "ipython3",
   "version": "3.5.3"
  }
 },
 "nbformat": 4,
 "nbformat_minor": 2
}
