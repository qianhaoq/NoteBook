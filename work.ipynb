{
 "cells": [
  {
   "cell_type": "code",
   "execution_count": 1,
   "metadata": {},
   "outputs": [
    {
     "name": "stdout",
     "output_type": "stream",
     "text": [
      "123\n"
     ]
    }
   ],
   "source": [
    "\"\"\"\n",
    "输入\n",
    "公路划分为N段，\n",
    "之后n行是  起始点，终止点，限速值\n",
    "最后一行是计算的起始点A和B\n",
    "\n",
    "输出\n",
    "A到B的最少时间\n",
    "\n",
    "Sample\n",
    "4\n",
    "0 30 10\n",
    "30 40 20\n",
    "40 80 20\n",
    "80 100 5\n",
    "20 60\n",
    "\"\"\""
   ]
  },
  {
   "cell_type": "code",
   "execution_count": null,
   "metadata": {},
   "outputs": [
    {
     "name": "stdout",
     "output_type": "stream",
     "text": [
      "4\n",
      "0 30 10\n",
      "0\n",
      "30 40 20\n",
      "30\n"
     ]
    }
   ],
   "source": [
    "#!/usr/bin/python3\n",
    "\n",
    "\n",
    "while True:\n",
    "    N = int(input())\n",
    "    input_list = []\n",
    "    for i in range(N):\n",
    "        start, end, speed = list(map(int, input().split()))\n",
    "        \n",
    "\n"
   ]
  }
 ],
 "metadata": {
  "kernelspec": {
   "display_name": "Python 3",
   "language": "python",
   "name": "python3"
  },
  "language_info": {
   "codemirror_mode": {
    "name": "ipython",
    "version": 3
   },
   "file_extension": ".py",
   "mimetype": "text/x-python",
   "name": "python",
   "nbconvert_exporter": "python",
   "pygments_lexer": "ipython3",
   "version": "3.5.3"
  }
 },
 "nbformat": 4,
 "nbformat_minor": 2
}
